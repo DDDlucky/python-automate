{
 "cells": [
  {
   "cell_type": "code",
   "execution_count": 50,
   "id": "b5f7861b-830d-42c5-b937-d9dbd71c36ab",
   "metadata": {},
   "outputs": [],
   "source": [
    "import pandas as pd\n",
    "from glob import glob"
   ]
  },
  {
   "cell_type": "code",
   "execution_count": 51,
   "id": "91ac2388-e58b-4646-9676-07ed3dc86171",
   "metadata": {},
   "outputs": [
    {
     "name": "stdout",
     "output_type": "stream",
     "text": [
      "Requirement already satisfied: xlrd in /Users/do/.pyenv/versions/anaconda3-2019.10/lib/python3.7/site-packages (2.0.1)\n"
     ]
    }
   ],
   "source": [
    "!pip3 install xlrd"
   ]
  },
  {
   "cell_type": "code",
   "execution_count": 52,
   "id": "301f1274-f48f-4f9c-9a33-474ebf0eef44",
   "metadata": {},
   "outputs": [
    {
     "name": "stdout",
     "output_type": "stream",
     "text": [
      "Requirement already satisfied: openpyxl in /Users/do/.pyenv/versions/anaconda3-2019.10/lib/python3.7/site-packages (3.0.7)\n",
      "Requirement already satisfied: et-xmlfile in /Users/do/.pyenv/versions/anaconda3-2019.10/lib/python3.7/site-packages (from openpyxl) (1.1.0)\n",
      "Note: you may need to restart the kernel to use updated packages.\n"
     ]
    }
   ],
   "source": [
    "pip install openpyxl"
   ]
  },
  {
   "cell_type": "code",
   "execution_count": 53,
   "id": "2b983b8c-abc2-4b43-bb51-7d616316aaf5",
   "metadata": {},
   "outputs": [
    {
     "data": {
      "text/plain": [
       "[]"
      ]
     },
     "execution_count": 53,
     "metadata": {},
     "output_type": "execute_result"
    }
   ],
   "source": [
    "filepaths_order = glob('sources/order_new/order*.xlsx')\n",
    "filepaths_order"
   ]
  },
  {
   "cell_type": "code",
   "execution_count": 54,
   "id": "6b78fe33-3066-46a2-b766-fd138e690f6d",
   "metadata": {},
   "outputs": [
    {
     "ename": "IndexError",
     "evalue": "list index out of range",
     "output_type": "error",
     "traceback": [
      "\u001b[0;31m---------------------------------------------------------------------------\u001b[0m",
      "\u001b[0;31mIndexError\u001b[0m                                Traceback (most recent call last)",
      "\u001b[0;32m<ipython-input-54-9f244b7206dc>\u001b[0m in \u001b[0;36m<module>\u001b[0;34m\u001b[0m\n\u001b[0;32m----> 1\u001b[0;31m \u001b[0mfilepath\u001b[0m \u001b[0;34m=\u001b[0m \u001b[0mfilepaths_order\u001b[0m\u001b[0;34m[\u001b[0m\u001b[0;36m0\u001b[0m\u001b[0;34m]\u001b[0m\u001b[0;34m\u001b[0m\u001b[0;34m\u001b[0m\u001b[0m\n\u001b[0m\u001b[1;32m      2\u001b[0m \u001b[0mfilepath\u001b[0m\u001b[0;34m\u001b[0m\u001b[0;34m\u001b[0m\u001b[0m\n",
      "\u001b[0;31mIndexError\u001b[0m: list index out of range"
     ]
    }
   ],
   "source": [
    "filepath = filepaths_order[0]\n",
    "filepath"
   ]
  },
  {
   "cell_type": "code",
   "execution_count": null,
   "id": "ff9c497e-3b5e-456c-abdd-816d67409667",
   "metadata": {},
   "outputs": [],
   "source": [
    "df_order = pd.read_excel(filepath)\n",
    "df_order"
   ]
  },
  {
   "cell_type": "code",
   "execution_count": null,
   "id": "430ee554-aff6-43aa-a305-16fefb887d5e",
   "metadata": {},
   "outputs": [],
   "source": []
  },
  {
   "cell_type": "code",
   "execution_count": null,
   "id": "7e616ad4-25de-4cab-8443-03a4a8f64672",
   "metadata": {},
   "outputs": [],
   "source": [
    "df_order.to_dict().items()"
   ]
  },
  {
   "cell_type": "code",
   "execution_count": null,
   "id": "0392ca4b-0344-422c-8693-e2551da4f074",
   "metadata": {},
   "outputs": [],
   "source": [
    "from collections import defaultdict"
   ]
  },
  {
   "cell_type": "code",
   "execution_count": null,
   "id": "6d279fa0-f789-4531-81e4-6c365668025a",
   "metadata": {},
   "outputs": [],
   "source": [
    "order = defaultdict(int)"
   ]
  },
  {
   "cell_type": "code",
   "execution_count": null,
   "id": "fac89cd1-b035-430e-a92d-71dfe03c3491",
   "metadata": {},
   "outputs": [],
   "source": [
    "for key, value in df_order.to_dict().items():\n",
    "    order[key] += value[0]\n",
    "#     print(key, value) "
   ]
  },
  {
   "cell_type": "code",
   "execution_count": null,
   "id": "7856ac2f-c9e9-42fe-b58f-631b581fb7b0",
   "metadata": {},
   "outputs": [],
   "source": [
    "order"
   ]
  },
  {
   "cell_type": "code",
   "execution_count": null,
   "id": "4d590d2e-c524-44de-9b69-0c85f3b36728",
   "metadata": {},
   "outputs": [],
   "source": [
    "filepath = filepaths_order[1]\n",
    "df_order = pd.read_excel(filepath)\n",
    "df_order"
   ]
  },
  {
   "cell_type": "code",
   "execution_count": null,
   "id": "b3eff09b-41aa-48a1-99cc-d88311b5c3dc",
   "metadata": {},
   "outputs": [],
   "source": [
    "for key, value in df_order.to_dict().items():\n",
    "    order[key] += value[0]"
   ]
  },
  {
   "cell_type": "code",
   "execution_count": null,
   "id": "ef872bd6-7c10-4439-bdd4-d37c1b4e01e2",
   "metadata": {},
   "outputs": [],
   "source": [
    "order"
   ]
  },
  {
   "cell_type": "code",
   "execution_count": null,
   "id": "49fb3ae9-4175-4212-aea5-eca4c1a9839e",
   "metadata": {},
   "outputs": [],
   "source": [
    "import os\n",
    "import shutil"
   ]
  },
  {
   "cell_type": "code",
   "execution_count": null,
   "id": "d81c7da7-863e-4268-9edc-7c53ad42fa76",
   "metadata": {},
   "outputs": [],
   "source": [
    "os.listdir('sources/order_new/')"
   ]
  },
  {
   "cell_type": "code",
   "execution_count": null,
   "id": "a601ef04-ffa9-4e41-b537-753a5c9a4ab9",
   "metadata": {},
   "outputs": [],
   "source": [
    "os.listdir('sources/order_old/')"
   ]
  },
  {
   "cell_type": "code",
   "execution_count": null,
   "id": "d2ac5019-771a-4379-92fb-ec9e0ee18d17",
   "metadata": {},
   "outputs": [],
   "source": [
    "filepath = filepaths_order[0]\n",
    "shutil.move(filepath, 'sources/order_old/')"
   ]
  },
  {
   "cell_type": "code",
   "execution_count": null,
   "id": "b7d8717d-0e84-45b7-96e1-61632ecf569a",
   "metadata": {},
   "outputs": [],
   "source": [
    "def update_order(order, filepath):\n",
    "    # 注文表読み込み\n",
    "    df_order = pd.read_excel(filepath)\n",
    "    for key, value in df_order.to_dict().items():\n",
    "        order[key] += value[0]\n",
    "    # ファイルの移動\n",
    "    shutil.move(filepath, 'sources/order_old/')\n",
    "    return order"
   ]
  },
  {
   "cell_type": "code",
   "execution_count": null,
   "id": "9ba5bc98-1932-4a06-9a34-114d2d76c684",
   "metadata": {},
   "outputs": [],
   "source": [
    "order = defaultdict(int)\n",
    "\n",
    "for filepath in filepaths_order:\n",
    "    order = update_order(order, filepath)"
   ]
  },
  {
   "cell_type": "code",
   "execution_count": null,
   "id": "cd2fe67b-affd-4b86-b44f-8c7d3644ce94",
   "metadata": {},
   "outputs": [],
   "source": [
    "order"
   ]
  },
  {
   "cell_type": "code",
   "execution_count": null,
   "id": "106225ff-9c70-4056-9c4d-d1bd73e6d15c",
   "metadata": {},
   "outputs": [],
   "source": [
    "order"
   ]
  },
  {
   "cell_type": "code",
   "execution_count": 56,
   "id": "ab999fa8-032d-4fcb-b019-fa87ab465d00",
   "metadata": {},
   "outputs": [
    {
     "data": {
      "text/html": [
       "<div>\n",
       "<style scoped>\n",
       "    .dataframe tbody tr th:only-of-type {\n",
       "        vertical-align: middle;\n",
       "    }\n",
       "\n",
       "    .dataframe tbody tr th {\n",
       "        vertical-align: top;\n",
       "    }\n",
       "\n",
       "    .dataframe thead th {\n",
       "        text-align: right;\n",
       "    }\n",
       "</style>\n",
       "<table border=\"1\" class=\"dataframe\">\n",
       "  <thead>\n",
       "    <tr style=\"text-align: right;\">\n",
       "      <th></th>\n",
       "      <th>日付</th>\n",
       "      <th>曜日</th>\n",
       "      <th>日本酒</th>\n",
       "      <th>焼酎</th>\n",
       "      <th>赤ワイン</th>\n",
       "      <th>白ワイン</th>\n",
       "      <th>ウィスキー</th>\n",
       "      <th>ブランデー</th>\n",
       "      <th>缶チューハイ</th>\n",
       "    </tr>\n",
       "  </thead>\n",
       "  <tbody>\n",
       "    <tr>\n",
       "      <th>12</th>\n",
       "      <td>2021-02-02</td>\n",
       "      <td>Tue</td>\n",
       "      <td>66</td>\n",
       "      <td>48</td>\n",
       "      <td>38</td>\n",
       "      <td>70</td>\n",
       "      <td>31</td>\n",
       "      <td>18</td>\n",
       "      <td>98</td>\n",
       "    </tr>\n",
       "    <tr>\n",
       "      <th>13</th>\n",
       "      <td>2021-02-03</td>\n",
       "      <td>Wed</td>\n",
       "      <td>66</td>\n",
       "      <td>32</td>\n",
       "      <td>34</td>\n",
       "      <td>16</td>\n",
       "      <td>24</td>\n",
       "      <td>16</td>\n",
       "      <td>75</td>\n",
       "    </tr>\n",
       "    <tr>\n",
       "      <th>14</th>\n",
       "      <td>2021-02-03</td>\n",
       "      <td>Wed</td>\n",
       "      <td>66</td>\n",
       "      <td>16</td>\n",
       "      <td>30</td>\n",
       "      <td>-38</td>\n",
       "      <td>17</td>\n",
       "      <td>14</td>\n",
       "      <td>52</td>\n",
       "    </tr>\n",
       "  </tbody>\n",
       "</table>\n",
       "</div>"
      ],
      "text/plain": [
       "           日付   曜日  日本酒  焼酎  赤ワイン  白ワイン  ウィスキー  ブランデー  缶チューハイ\n",
       "12 2021-02-02  Tue   66  48    38    70     31     18      98\n",
       "13 2021-02-03  Wed   66  32    34    16     24     16      75\n",
       "14 2021-02-03  Wed   66  16    30   -38     17     14      52"
      ]
     },
     "execution_count": 56,
     "metadata": {},
     "output_type": "execute_result"
    }
   ],
   "source": [
    "filepath_stock = 'sources/stock.xlsx'\n",
    "df_stock = pd.read_excel(filepath_stock)\n",
    "\n",
    "df_stock.tail(3)"
   ]
  },
  {
   "cell_type": "code",
   "execution_count": null,
   "id": "e615eeba-b52e-430c-8ce3-fb742d889970",
   "metadata": {},
   "outputs": [],
   "source": [
    "pd.DataFrame([[10, 4, 6]])"
   ]
  },
  {
   "cell_type": "code",
   "execution_count": null,
   "id": "0ab89a5c-ee09-40a4-b3d8-01a62587461c",
   "metadata": {},
   "outputs": [],
   "source": [
    "pd.DataFrame([[5, 1, 10]])"
   ]
  },
  {
   "cell_type": "code",
   "execution_count": null,
   "id": "46c5cb92-8a15-4948-a924-eb11f06aa101",
   "metadata": {},
   "outputs": [],
   "source": [
    "pd.DataFrame([[10, 4, 6]]) - pd.DataFrame([[5, 1, 10]])"
   ]
  },
  {
   "cell_type": "code",
   "execution_count": 57,
   "id": "9edb9f4f-f0a1-4250-b051-806d58895c48",
   "metadata": {},
   "outputs": [
    {
     "data": {
      "text/html": [
       "<div>\n",
       "<style scoped>\n",
       "    .dataframe tbody tr th:only-of-type {\n",
       "        vertical-align: middle;\n",
       "    }\n",
       "\n",
       "    .dataframe tbody tr th {\n",
       "        vertical-align: top;\n",
       "    }\n",
       "\n",
       "    .dataframe thead th {\n",
       "        text-align: right;\n",
       "    }\n",
       "</style>\n",
       "<table border=\"1\" class=\"dataframe\">\n",
       "  <thead>\n",
       "    <tr style=\"text-align: right;\">\n",
       "      <th></th>\n",
       "      <th>日本酒</th>\n",
       "      <th>焼酎</th>\n",
       "      <th>赤ワイン</th>\n",
       "      <th>白ワイン</th>\n",
       "      <th>ウィスキー</th>\n",
       "      <th>ブランデー</th>\n",
       "      <th>缶チューハイ</th>\n",
       "    </tr>\n",
       "  </thead>\n",
       "  <tbody>\n",
       "    <tr>\n",
       "      <th>14</th>\n",
       "      <td>66</td>\n",
       "      <td>16</td>\n",
       "      <td>30</td>\n",
       "      <td>-38</td>\n",
       "      <td>17</td>\n",
       "      <td>14</td>\n",
       "      <td>52</td>\n",
       "    </tr>\n",
       "  </tbody>\n",
       "</table>\n",
       "</div>"
      ],
      "text/plain": [
       "    日本酒  焼酎  赤ワイン  白ワイン  ウィスキー  ブランデー  缶チューハイ\n",
       "14   66  16    30   -38     17     14      52"
      ]
     },
     "execution_count": 57,
     "metadata": {},
     "output_type": "execute_result"
    }
   ],
   "source": [
    "stock = df_stock.iloc[-1:, 2:]\n",
    "stock"
   ]
  },
  {
   "cell_type": "code",
   "execution_count": 58,
   "id": "620971e1-bcca-4e9f-bbf1-5c939f581fe2",
   "metadata": {},
   "outputs": [
    {
     "data": {
      "text/html": [
       "<div>\n",
       "<style scoped>\n",
       "    .dataframe tbody tr th:only-of-type {\n",
       "        vertical-align: middle;\n",
       "    }\n",
       "\n",
       "    .dataframe tbody tr th {\n",
       "        vertical-align: top;\n",
       "    }\n",
       "\n",
       "    .dataframe thead th {\n",
       "        text-align: right;\n",
       "    }\n",
       "</style>\n",
       "<table border=\"1\" class=\"dataframe\">\n",
       "  <thead>\n",
       "    <tr style=\"text-align: right;\">\n",
       "      <th></th>\n",
       "      <th>日本酒</th>\n",
       "      <th>焼酎</th>\n",
       "      <th>赤ワイン</th>\n",
       "      <th>白ワイン</th>\n",
       "      <th>ウィスキー</th>\n",
       "      <th>ブランデー</th>\n",
       "      <th>缶チューハイ</th>\n",
       "    </tr>\n",
       "  </thead>\n",
       "  <tbody>\n",
       "    <tr>\n",
       "      <th>0</th>\n",
       "      <td>NaN</td>\n",
       "      <td>NaN</td>\n",
       "      <td>NaN</td>\n",
       "      <td>NaN</td>\n",
       "      <td>NaN</td>\n",
       "      <td>NaN</td>\n",
       "      <td>NaN</td>\n",
       "    </tr>\n",
       "  </tbody>\n",
       "</table>\n",
       "</div>"
      ],
      "text/plain": [
       "   日本酒   焼酎 赤ワイン 白ワイン ウィスキー ブランデー 缶チューハイ\n",
       "0  NaN  NaN  NaN  NaN   NaN   NaN    NaN"
      ]
     },
     "execution_count": 58,
     "metadata": {},
     "output_type": "execute_result"
    }
   ],
   "source": [
    "order = pd.DataFrame(order, index=[0], columns=stock.columns)\n",
    "order"
   ]
  },
  {
   "cell_type": "code",
   "execution_count": 59,
   "id": "734f4859-8d92-4d7d-b571-1cb542156af0",
   "metadata": {},
   "outputs": [
    {
     "data": {
      "text/html": [
       "<div>\n",
       "<style scoped>\n",
       "    .dataframe tbody tr th:only-of-type {\n",
       "        vertical-align: middle;\n",
       "    }\n",
       "\n",
       "    .dataframe tbody tr th {\n",
       "        vertical-align: top;\n",
       "    }\n",
       "\n",
       "    .dataframe thead th {\n",
       "        text-align: right;\n",
       "    }\n",
       "</style>\n",
       "<table border=\"1\" class=\"dataframe\">\n",
       "  <thead>\n",
       "    <tr style=\"text-align: right;\">\n",
       "      <th></th>\n",
       "      <th>日本酒</th>\n",
       "      <th>焼酎</th>\n",
       "      <th>赤ワイン</th>\n",
       "      <th>白ワイン</th>\n",
       "      <th>ウィスキー</th>\n",
       "      <th>ブランデー</th>\n",
       "      <th>缶チューハイ</th>\n",
       "    </tr>\n",
       "  </thead>\n",
       "  <tbody>\n",
       "    <tr>\n",
       "      <th>0</th>\n",
       "      <td>0</td>\n",
       "      <td>0</td>\n",
       "      <td>0</td>\n",
       "      <td>0</td>\n",
       "      <td>0</td>\n",
       "      <td>0</td>\n",
       "      <td>0</td>\n",
       "    </tr>\n",
       "  </tbody>\n",
       "</table>\n",
       "</div>"
      ],
      "text/plain": [
       "   日本酒  焼酎  赤ワイン  白ワイン  ウィスキー  ブランデー  缶チューハイ\n",
       "0    0   0     0     0      0      0       0"
      ]
     },
     "execution_count": 59,
     "metadata": {},
     "output_type": "execute_result"
    }
   ],
   "source": [
    "order = order.fillna(0)\n",
    "order"
   ]
  },
  {
   "cell_type": "code",
   "execution_count": null,
   "id": "a4141cfe-6e48-48cb-a815-4f4549bab8d7",
   "metadata": {},
   "outputs": [],
   "source": []
  },
  {
   "cell_type": "code",
   "execution_count": 60,
   "id": "7b040397-024d-4dce-91c4-5f9be259ee3f",
   "metadata": {},
   "outputs": [
    {
     "data": {
      "text/html": [
       "<div>\n",
       "<style scoped>\n",
       "    .dataframe tbody tr th:only-of-type {\n",
       "        vertical-align: middle;\n",
       "    }\n",
       "\n",
       "    .dataframe tbody tr th {\n",
       "        vertical-align: top;\n",
       "    }\n",
       "\n",
       "    .dataframe thead th {\n",
       "        text-align: right;\n",
       "    }\n",
       "</style>\n",
       "<table border=\"1\" class=\"dataframe\">\n",
       "  <thead>\n",
       "    <tr style=\"text-align: right;\">\n",
       "      <th></th>\n",
       "      <th>日本酒</th>\n",
       "      <th>焼酎</th>\n",
       "      <th>赤ワイン</th>\n",
       "      <th>白ワイン</th>\n",
       "      <th>ウィスキー</th>\n",
       "      <th>ブランデー</th>\n",
       "      <th>缶チューハイ</th>\n",
       "    </tr>\n",
       "  </thead>\n",
       "  <tbody>\n",
       "    <tr>\n",
       "      <th>0</th>\n",
       "      <td>NaN</td>\n",
       "      <td>NaN</td>\n",
       "      <td>NaN</td>\n",
       "      <td>NaN</td>\n",
       "      <td>NaN</td>\n",
       "      <td>NaN</td>\n",
       "      <td>NaN</td>\n",
       "    </tr>\n",
       "    <tr>\n",
       "      <th>14</th>\n",
       "      <td>NaN</td>\n",
       "      <td>NaN</td>\n",
       "      <td>NaN</td>\n",
       "      <td>NaN</td>\n",
       "      <td>NaN</td>\n",
       "      <td>NaN</td>\n",
       "      <td>NaN</td>\n",
       "    </tr>\n",
       "  </tbody>\n",
       "</table>\n",
       "</div>"
      ],
      "text/plain": [
       "    日本酒  焼酎  赤ワイン  白ワイン  ウィスキー  ブランデー  缶チューハイ\n",
       "0   NaN NaN   NaN   NaN    NaN    NaN     NaN\n",
       "14  NaN NaN   NaN   NaN    NaN    NaN     NaN"
      ]
     },
     "execution_count": 60,
     "metadata": {},
     "output_type": "execute_result"
    }
   ],
   "source": [
    "stock - order"
   ]
  },
  {
   "cell_type": "code",
   "execution_count": 61,
   "id": "ffa30521-38a8-497e-8fbe-5f6221ba35a7",
   "metadata": {},
   "outputs": [],
   "source": [
    "stock = stock.reset_index(drop=True)"
   ]
  },
  {
   "cell_type": "code",
   "execution_count": 62,
   "id": "dad14336-bc2f-496d-9ba3-420080dcb9fe",
   "metadata": {},
   "outputs": [
    {
     "data": {
      "text/html": [
       "<div>\n",
       "<style scoped>\n",
       "    .dataframe tbody tr th:only-of-type {\n",
       "        vertical-align: middle;\n",
       "    }\n",
       "\n",
       "    .dataframe tbody tr th {\n",
       "        vertical-align: top;\n",
       "    }\n",
       "\n",
       "    .dataframe thead th {\n",
       "        text-align: right;\n",
       "    }\n",
       "</style>\n",
       "<table border=\"1\" class=\"dataframe\">\n",
       "  <thead>\n",
       "    <tr style=\"text-align: right;\">\n",
       "      <th></th>\n",
       "      <th>日本酒</th>\n",
       "      <th>焼酎</th>\n",
       "      <th>赤ワイン</th>\n",
       "      <th>白ワイン</th>\n",
       "      <th>ウィスキー</th>\n",
       "      <th>ブランデー</th>\n",
       "      <th>缶チューハイ</th>\n",
       "    </tr>\n",
       "  </thead>\n",
       "  <tbody>\n",
       "    <tr>\n",
       "      <th>0</th>\n",
       "      <td>66</td>\n",
       "      <td>16</td>\n",
       "      <td>30</td>\n",
       "      <td>-38</td>\n",
       "      <td>17</td>\n",
       "      <td>14</td>\n",
       "      <td>52</td>\n",
       "    </tr>\n",
       "  </tbody>\n",
       "</table>\n",
       "</div>"
      ],
      "text/plain": [
       "   日本酒  焼酎  赤ワイン  白ワイン  ウィスキー  ブランデー  缶チューハイ\n",
       "0   66  16    30   -38     17     14      52"
      ]
     },
     "execution_count": 62,
     "metadata": {},
     "output_type": "execute_result"
    }
   ],
   "source": [
    "updated = stock - order\n",
    "updated"
   ]
  },
  {
   "cell_type": "code",
   "execution_count": 63,
   "id": "82bfed8a-337a-4db0-9f9b-e02eb9e104a1",
   "metadata": {},
   "outputs": [
    {
     "data": {
      "text/html": [
       "<div>\n",
       "<style scoped>\n",
       "    .dataframe tbody tr th:only-of-type {\n",
       "        vertical-align: middle;\n",
       "    }\n",
       "\n",
       "    .dataframe tbody tr th {\n",
       "        vertical-align: top;\n",
       "    }\n",
       "\n",
       "    .dataframe thead th {\n",
       "        text-align: right;\n",
       "    }\n",
       "</style>\n",
       "<table border=\"1\" class=\"dataframe\">\n",
       "  <thead>\n",
       "    <tr style=\"text-align: right;\">\n",
       "      <th></th>\n",
       "      <th>Unnamed: 0</th>\n",
       "      <th>日本酒</th>\n",
       "      <th>焼酎</th>\n",
       "      <th>赤ワイン</th>\n",
       "      <th>白ワイン</th>\n",
       "      <th>ウィスキー</th>\n",
       "      <th>ブランデー</th>\n",
       "      <th>缶チューハイ</th>\n",
       "    </tr>\n",
       "  </thead>\n",
       "  <tbody>\n",
       "    <tr>\n",
       "      <th>0</th>\n",
       "      <td>閾値</td>\n",
       "      <td>30</td>\n",
       "      <td>20</td>\n",
       "      <td>20</td>\n",
       "      <td>20</td>\n",
       "      <td>30</td>\n",
       "      <td>10</td>\n",
       "      <td>40</td>\n",
       "    </tr>\n",
       "    <tr>\n",
       "      <th>1</th>\n",
       "      <td>追加量</td>\n",
       "      <td>100</td>\n",
       "      <td>80</td>\n",
       "      <td>100</td>\n",
       "      <td>100</td>\n",
       "      <td>80</td>\n",
       "      <td>80</td>\n",
       "      <td>120</td>\n",
       "    </tr>\n",
       "  </tbody>\n",
       "</table>\n",
       "</div>"
      ],
      "text/plain": [
       "  Unnamed: 0  日本酒  焼酎  赤ワイン  白ワイン  ウィスキー  ブランデー  缶チューハイ\n",
       "0         閾値   30  20    20    20     30     10      40\n",
       "1        追加量  100  80   100   100     80     80     120"
      ]
     },
     "execution_count": 63,
     "metadata": {},
     "output_type": "execute_result"
    }
   ],
   "source": [
    "filepath_master = 'sources/master.xlsx'\n",
    "df_master = pd.read_excel(filepath_master)\n",
    "df_master"
   ]
  },
  {
   "cell_type": "code",
   "execution_count": 64,
   "id": "ab4a8281-d8be-4b48-9f45-dc3aafd76883",
   "metadata": {},
   "outputs": [
    {
     "data": {
      "text/plain": [
       "日本酒       30\n",
       "焼酎        20\n",
       "赤ワイン      20\n",
       "白ワイン      20\n",
       "ウィスキー     30\n",
       "ブランデー     10\n",
       "缶チューハイ    40\n",
       "Name: 0, dtype: object"
      ]
     },
     "execution_count": 64,
     "metadata": {},
     "output_type": "execute_result"
    }
   ],
   "source": [
    "df_master.iloc[0 , 1: ]"
   ]
  },
  {
   "cell_type": "code",
   "execution_count": 65,
   "id": "4bd31c6f-f54e-43e0-a025-3c840d676221",
   "metadata": {},
   "outputs": [
    {
     "data": {
      "text/html": [
       "<div>\n",
       "<style scoped>\n",
       "    .dataframe tbody tr th:only-of-type {\n",
       "        vertical-align: middle;\n",
       "    }\n",
       "\n",
       "    .dataframe tbody tr th {\n",
       "        vertical-align: top;\n",
       "    }\n",
       "\n",
       "    .dataframe thead th {\n",
       "        text-align: right;\n",
       "    }\n",
       "</style>\n",
       "<table border=\"1\" class=\"dataframe\">\n",
       "  <thead>\n",
       "    <tr style=\"text-align: right;\">\n",
       "      <th></th>\n",
       "      <th>日本酒</th>\n",
       "      <th>焼酎</th>\n",
       "      <th>赤ワイン</th>\n",
       "      <th>白ワイン</th>\n",
       "      <th>ウィスキー</th>\n",
       "      <th>ブランデー</th>\n",
       "      <th>缶チューハイ</th>\n",
       "    </tr>\n",
       "  </thead>\n",
       "  <tbody>\n",
       "    <tr>\n",
       "      <th>0</th>\n",
       "      <td>30</td>\n",
       "      <td>20</td>\n",
       "      <td>20</td>\n",
       "      <td>20</td>\n",
       "      <td>30</td>\n",
       "      <td>10</td>\n",
       "      <td>40</td>\n",
       "    </tr>\n",
       "  </tbody>\n",
       "</table>\n",
       "</div>"
      ],
      "text/plain": [
       "   日本酒  焼酎  赤ワイン  白ワイン  ウィスキー  ブランデー  缶チューハイ\n",
       "0   30  20    20    20     30     10      40"
      ]
     },
     "execution_count": 65,
     "metadata": {},
     "output_type": "execute_result"
    }
   ],
   "source": [
    "threshold = df_master.iloc[:1 , 1: ]\n",
    "threshold"
   ]
  },
  {
   "cell_type": "code",
   "execution_count": 66,
   "id": "60ab9b51-fe49-49e2-8a78-f02ccdeb29fa",
   "metadata": {},
   "outputs": [
    {
     "data": {
      "text/html": [
       "<div>\n",
       "<style scoped>\n",
       "    .dataframe tbody tr th:only-of-type {\n",
       "        vertical-align: middle;\n",
       "    }\n",
       "\n",
       "    .dataframe tbody tr th {\n",
       "        vertical-align: top;\n",
       "    }\n",
       "\n",
       "    .dataframe thead th {\n",
       "        text-align: right;\n",
       "    }\n",
       "</style>\n",
       "<table border=\"1\" class=\"dataframe\">\n",
       "  <thead>\n",
       "    <tr style=\"text-align: right;\">\n",
       "      <th></th>\n",
       "      <th>日本酒</th>\n",
       "      <th>焼酎</th>\n",
       "      <th>赤ワイン</th>\n",
       "      <th>白ワイン</th>\n",
       "      <th>ウィスキー</th>\n",
       "      <th>ブランデー</th>\n",
       "      <th>缶チューハイ</th>\n",
       "    </tr>\n",
       "  </thead>\n",
       "  <tbody>\n",
       "    <tr>\n",
       "      <th>0</th>\n",
       "      <td>66</td>\n",
       "      <td>16</td>\n",
       "      <td>30</td>\n",
       "      <td>-38</td>\n",
       "      <td>17</td>\n",
       "      <td>14</td>\n",
       "      <td>52</td>\n",
       "    </tr>\n",
       "  </tbody>\n",
       "</table>\n",
       "</div>"
      ],
      "text/plain": [
       "   日本酒  焼酎  赤ワイン  白ワイン  ウィスキー  ブランデー  缶チューハイ\n",
       "0   66  16    30   -38     17     14      52"
      ]
     },
     "execution_count": 66,
     "metadata": {},
     "output_type": "execute_result"
    }
   ],
   "source": [
    "updated"
   ]
  },
  {
   "cell_type": "code",
   "execution_count": 69,
   "id": "5cf62f6a-ea2a-4b26-a144-0235b5a1e955",
   "metadata": {},
   "outputs": [
    {
     "data": {
      "text/plain": [
       "Index(['焼酎', '白ワイン', 'ウィスキー'], dtype='object')"
      ]
     },
     "execution_count": 69,
     "metadata": {},
     "output_type": "execute_result"
    }
   ],
   "source": [
    "shortage_columns = updated[updated < threshold].dropna(axis=1).columns\n",
    "shortage_columns"
   ]
  },
  {
   "cell_type": "code",
   "execution_count": 72,
   "id": "02cda2b2-b600-4277-b1c2-cfba3f3fcc6c",
   "metadata": {},
   "outputs": [
    {
     "data": {
      "text/html": [
       "<div>\n",
       "<style scoped>\n",
       "    .dataframe tbody tr th:only-of-type {\n",
       "        vertical-align: middle;\n",
       "    }\n",
       "\n",
       "    .dataframe tbody tr th {\n",
       "        vertical-align: top;\n",
       "    }\n",
       "\n",
       "    .dataframe thead th {\n",
       "        text-align: right;\n",
       "    }\n",
       "</style>\n",
       "<table border=\"1\" class=\"dataframe\">\n",
       "  <thead>\n",
       "    <tr style=\"text-align: right;\">\n",
       "      <th></th>\n",
       "      <th>焼酎</th>\n",
       "      <th>白ワイン</th>\n",
       "      <th>ウィスキー</th>\n",
       "    </tr>\n",
       "  </thead>\n",
       "  <tbody>\n",
       "    <tr>\n",
       "      <th>1</th>\n",
       "      <td>80</td>\n",
       "      <td>100</td>\n",
       "      <td>80</td>\n",
       "    </tr>\n",
       "  </tbody>\n",
       "</table>\n",
       "</div>"
      ],
      "text/plain": [
       "   焼酎  白ワイン  ウィスキー\n",
       "1  80   100     80"
      ]
     },
     "execution_count": 72,
     "metadata": {},
     "output_type": "execute_result"
    }
   ],
   "source": [
    "df_shortage = df_master.iloc[1:, 1:][shortage_columns]\n",
    "df_shortage"
   ]
  },
  {
   "cell_type": "code",
   "execution_count": 75,
   "id": "e08d89ae-012e-4c9d-8aff-5a3472442a13",
   "metadata": {},
   "outputs": [],
   "source": [
    "order_text = ''\n",
    "for key, value in df_shortage.to_dict().items():\n",
    "    order_text += f'{key}を{value[1]}本、'\n",
    "order_text += '発注お願いします。'"
   ]
  },
  {
   "cell_type": "code",
   "execution_count": 76,
   "id": "958fe68e-1827-41ec-bc6e-602a04fc2195",
   "metadata": {},
   "outputs": [
    {
     "data": {
      "text/plain": [
       "'焼酎を80本、白ワインを100本、ウィスキーを80本、発注お願いします。'"
      ]
     },
     "execution_count": 76,
     "metadata": {},
     "output_type": "execute_result"
    }
   ],
   "source": [
    "order_text"
   ]
  },
  {
   "cell_type": "code",
   "execution_count": null,
   "id": "17c0d720-2d51-4117-b247-7848b022da76",
   "metadata": {},
   "outputs": [],
   "source": []
  }
 ],
 "metadata": {
  "kernelspec": {
   "display_name": "Python 3",
   "language": "python",
   "name": "python3"
  },
  "language_info": {
   "codemirror_mode": {
    "name": "ipython",
    "version": 3
   },
   "file_extension": ".py",
   "mimetype": "text/x-python",
   "name": "python",
   "nbconvert_exporter": "python",
   "pygments_lexer": "ipython3",
   "version": "3.7.4"
  }
 },
 "nbformat": 4,
 "nbformat_minor": 5
}
