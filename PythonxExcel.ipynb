{
 "cells": [
  {
   "cell_type": "code",
   "execution_count": 1,
   "id": "b5f7861b-830d-42c5-b937-d9dbd71c36ab",
   "metadata": {},
   "outputs": [],
   "source": [
    "import pandas as pd\n",
    "from glob import glob"
   ]
  },
  {
   "cell_type": "code",
   "execution_count": 15,
   "id": "91ac2388-e58b-4646-9676-07ed3dc86171",
   "metadata": {},
   "outputs": [
    {
     "name": "stdout",
     "output_type": "stream",
     "text": [
      "Requirement already satisfied: xlrd in /Users/do/.pyenv/versions/anaconda3-2019.10/lib/python3.7/site-packages (2.0.1)\n"
     ]
    }
   ],
   "source": [
    "!pip3 install xlrd"
   ]
  },
  {
   "cell_type": "code",
   "execution_count": 17,
   "id": "301f1274-f48f-4f9c-9a33-474ebf0eef44",
   "metadata": {},
   "outputs": [
    {
     "name": "stdout",
     "output_type": "stream",
     "text": [
      "Collecting openpyxl\n",
      "  Downloading openpyxl-3.0.7-py2.py3-none-any.whl (243 kB)\n",
      "\u001b[K     |████████████████████████████████| 243 kB 3.7 MB/s eta 0:00:01\n",
      "\u001b[?25hCollecting et-xmlfile\n",
      "  Downloading et_xmlfile-1.1.0-py3-none-any.whl (4.7 kB)\n",
      "Installing collected packages: et-xmlfile, openpyxl\n",
      "Successfully installed et-xmlfile-1.1.0 openpyxl-3.0.7\n",
      "Note: you may need to restart the kernel to use updated packages.\n"
     ]
    }
   ],
   "source": [
    "pip install openpyxl"
   ]
  },
  {
   "cell_type": "code",
   "execution_count": 4,
   "id": "2b983b8c-abc2-4b43-bb51-7d616316aaf5",
   "metadata": {},
   "outputs": [
    {
     "data": {
      "text/plain": [
       "['sources/order_new/order_C_20210203.xlsx',\n",
       " 'sources/order_new/order_D_20210203.xlsx',\n",
       " 'sources/order_new/order_A_20210203.xlsx',\n",
       " 'sources/order_new/order_B_20210203.xlsx']"
      ]
     },
     "execution_count": 4,
     "metadata": {},
     "output_type": "execute_result"
    }
   ],
   "source": [
    "filepaths_order = glob('sources/order_new/order*.xlsx')\n",
    "filepaths_order"
   ]
  },
  {
   "cell_type": "code",
   "execution_count": 13,
   "id": "6b78fe33-3066-46a2-b766-fd138e690f6d",
   "metadata": {},
   "outputs": [
    {
     "data": {
      "text/plain": [
       "'sources/order_new/order_C_20210203.xlsx'"
      ]
     },
     "execution_count": 13,
     "metadata": {},
     "output_type": "execute_result"
    }
   ],
   "source": [
    "filepath = filepaths_order[0]\n",
    "filepath"
   ]
  },
  {
   "cell_type": "code",
   "execution_count": 18,
   "id": "ff9c497e-3b5e-456c-abdd-816d67409667",
   "metadata": {},
   "outputs": [
    {
     "data": {
      "text/html": [
       "<div>\n",
       "<style scoped>\n",
       "    .dataframe tbody tr th:only-of-type {\n",
       "        vertical-align: middle;\n",
       "    }\n",
       "\n",
       "    .dataframe tbody tr th {\n",
       "        vertical-align: top;\n",
       "    }\n",
       "\n",
       "    .dataframe thead th {\n",
       "        text-align: right;\n",
       "    }\n",
       "</style>\n",
       "<table border=\"1\" class=\"dataframe\">\n",
       "  <thead>\n",
       "    <tr style=\"text-align: right;\">\n",
       "      <th></th>\n",
       "      <th>焼酎</th>\n",
       "      <th>白ワイン</th>\n",
       "      <th>ブランデー</th>\n",
       "    </tr>\n",
       "  </thead>\n",
       "  <tbody>\n",
       "    <tr>\n",
       "      <th>0</th>\n",
       "      <td>8</td>\n",
       "      <td>18</td>\n",
       "      <td>2</td>\n",
       "    </tr>\n",
       "  </tbody>\n",
       "</table>\n",
       "</div>"
      ],
      "text/plain": [
       "   焼酎  白ワイン  ブランデー\n",
       "0   8    18      2"
      ]
     },
     "execution_count": 18,
     "metadata": {},
     "output_type": "execute_result"
    }
   ],
   "source": [
    "df_order = pd.read_excel(filepath)\n",
    "df_order"
   ]
  },
  {
   "cell_type": "code",
   "execution_count": null,
   "id": "430ee554-aff6-43aa-a305-16fefb887d5e",
   "metadata": {},
   "outputs": [],
   "source": []
  },
  {
   "cell_type": "code",
   "execution_count": 20,
   "id": "7e616ad4-25de-4cab-8443-03a4a8f64672",
   "metadata": {},
   "outputs": [
    {
     "data": {
      "text/plain": [
       "dict_items([('焼酎', {0: 8}), ('白ワイン', {0: 18}), ('ブランデー', {0: 2})])"
      ]
     },
     "execution_count": 20,
     "metadata": {},
     "output_type": "execute_result"
    }
   ],
   "source": [
    "df_order.to_dict().items()"
   ]
  },
  {
   "cell_type": "code",
   "execution_count": 21,
   "id": "0392ca4b-0344-422c-8693-e2551da4f074",
   "metadata": {},
   "outputs": [],
   "source": [
    "from collections import defaultdict"
   ]
  },
  {
   "cell_type": "code",
   "execution_count": 22,
   "id": "6d279fa0-f789-4531-81e4-6c365668025a",
   "metadata": {},
   "outputs": [],
   "source": [
    "order = defaultdict(int)"
   ]
  },
  {
   "cell_type": "code",
   "execution_count": 24,
   "id": "fac89cd1-b035-430e-a92d-71dfe03c3491",
   "metadata": {},
   "outputs": [],
   "source": [
    "for key, value in df_order.to_dict().items():\n",
    "    order[key] += value[0]\n",
    "#     print(key, value) "
   ]
  },
  {
   "cell_type": "code",
   "execution_count": 25,
   "id": "7856ac2f-c9e9-42fe-b58f-631b581fb7b0",
   "metadata": {},
   "outputs": [
    {
     "data": {
      "text/plain": [
       "defaultdict(int, {'焼酎': 8, '白ワイン': 18, 'ブランデー': 2})"
      ]
     },
     "execution_count": 25,
     "metadata": {},
     "output_type": "execute_result"
    }
   ],
   "source": [
    "order"
   ]
  },
  {
   "cell_type": "code",
   "execution_count": 27,
   "id": "4d590d2e-c524-44de-9b69-0c85f3b36728",
   "metadata": {},
   "outputs": [
    {
     "data": {
      "text/html": [
       "<div>\n",
       "<style scoped>\n",
       "    .dataframe tbody tr th:only-of-type {\n",
       "        vertical-align: middle;\n",
       "    }\n",
       "\n",
       "    .dataframe tbody tr th {\n",
       "        vertical-align: top;\n",
       "    }\n",
       "\n",
       "    .dataframe thead th {\n",
       "        text-align: right;\n",
       "    }\n",
       "</style>\n",
       "<table border=\"1\" class=\"dataframe\">\n",
       "  <thead>\n",
       "    <tr style=\"text-align: right;\">\n",
       "      <th></th>\n",
       "      <th>焼酎</th>\n",
       "      <th>赤ワイン</th>\n",
       "      <th>白ワイン</th>\n",
       "    </tr>\n",
       "  </thead>\n",
       "  <tbody>\n",
       "    <tr>\n",
       "      <th>0</th>\n",
       "      <td>3</td>\n",
       "      <td>4</td>\n",
       "      <td>6</td>\n",
       "    </tr>\n",
       "  </tbody>\n",
       "</table>\n",
       "</div>"
      ],
      "text/plain": [
       "   焼酎  赤ワイン  白ワイン\n",
       "0   3     4     6"
      ]
     },
     "execution_count": 27,
     "metadata": {},
     "output_type": "execute_result"
    }
   ],
   "source": [
    "filepath = filepaths_order[1]\n",
    "df_order = pd.read_excel(filepath)\n",
    "df_order"
   ]
  },
  {
   "cell_type": "code",
   "execution_count": 30,
   "id": "b3eff09b-41aa-48a1-99cc-d88311b5c3dc",
   "metadata": {},
   "outputs": [],
   "source": [
    "for key, value in df_order.to_dict().items():\n",
    "    order[key] += value[0]"
   ]
  },
  {
   "cell_type": "code",
   "execution_count": 29,
   "id": "ef872bd6-7c10-4439-bdd4-d37c1b4e01e2",
   "metadata": {},
   "outputs": [
    {
     "data": {
      "text/plain": [
       "defaultdict(int, {'焼酎': 11, '白ワイン': 24, 'ブランデー': 2, '赤ワイン': 4})"
      ]
     },
     "execution_count": 29,
     "metadata": {},
     "output_type": "execute_result"
    }
   ],
   "source": [
    "order"
   ]
  },
  {
   "cell_type": "code",
   "execution_count": 31,
   "id": "49fb3ae9-4175-4212-aea5-eca4c1a9839e",
   "metadata": {},
   "outputs": [],
   "source": [
    "import os\n",
    "import shutil"
   ]
  },
  {
   "cell_type": "code",
   "execution_count": 32,
   "id": "d81c7da7-863e-4268-9edc-7c53ad42fa76",
   "metadata": {},
   "outputs": [
    {
     "data": {
      "text/plain": [
       "['order_C_20210203.xlsx',\n",
       " 'order_D_20210203.xlsx',\n",
       " 'order_A_20210203.xlsx',\n",
       " 'order_B_20210203.xlsx']"
      ]
     },
     "execution_count": 32,
     "metadata": {},
     "output_type": "execute_result"
    }
   ],
   "source": [
    "os.listdir('sources/order_new/')"
   ]
  },
  {
   "cell_type": "code",
   "execution_count": 33,
   "id": "a601ef04-ffa9-4e41-b537-753a5c9a4ab9",
   "metadata": {},
   "outputs": [
    {
     "data": {
      "text/plain": [
       "[]"
      ]
     },
     "execution_count": 33,
     "metadata": {},
     "output_type": "execute_result"
    }
   ],
   "source": [
    "os.listdir('sources/order_old/')"
   ]
  },
  {
   "cell_type": "code",
   "execution_count": 35,
   "id": "d2ac5019-771a-4379-92fb-ec9e0ee18d17",
   "metadata": {},
   "outputs": [
    {
     "data": {
      "text/plain": [
       "'sources/order_old/order_C_20210203.xlsx'"
      ]
     },
     "execution_count": 35,
     "metadata": {},
     "output_type": "execute_result"
    }
   ],
   "source": [
    "filepath = filepaths_order[0]\n",
    "shutil.move(filepath, 'sources/order_old/')"
   ]
  },
  {
   "cell_type": "code",
   "execution_count": 59,
   "id": "b7d8717d-0e84-45b7-96e1-61632ecf569a",
   "metadata": {},
   "outputs": [],
   "source": [
    "def update_order(order, filepath):\n",
    "    # 注文表読み込み\n",
    "    df_order = pd.read_excel(filepath)\n",
    "    for key, value in df_order.to_dict().items():\n",
    "        order[key] += value[0]\n",
    "    # ファイルの移動\n",
    "    shutil.move(filepath, 'sources/order_old/')\n",
    "    return order"
   ]
  },
  {
   "cell_type": "code",
   "execution_count": 62,
   "id": "9ba5bc98-1932-4a06-9a34-114d2d76c684",
   "metadata": {},
   "outputs": [],
   "source": [
    "order = defaultdict(int)\n",
    "\n",
    "for filepath in filepaths_order:\n",
    "    order = update_order(order, filepath)"
   ]
  },
  {
   "cell_type": "code",
   "execution_count": 63,
   "id": "cd2fe67b-affd-4b86-b44f-8c7d3644ce94",
   "metadata": {},
   "outputs": [
    {
     "data": {
      "text/plain": [
       "defaultdict(int,\n",
       "            {'焼酎': 16,\n",
       "             '白ワイン': 54,\n",
       "             'ブランデー': 2,\n",
       "             '赤ワイン': 4,\n",
       "             'ウィスキー': 7,\n",
       "             '缶チューハイ': 23,\n",
       "             'Unnamed: 3': nan,\n",
       "             'Unnamed: 4': nan,\n",
       "             'Unnamed: 5': nan,\n",
       "             'Unnamed: 6': nan,\n",
       "             'Unnamed: 7': nan,\n",
       "             'Unnamed: 8': nan})"
      ]
     },
     "execution_count": 63,
     "metadata": {},
     "output_type": "execute_result"
    }
   ],
   "source": [
    "order"
   ]
  },
  {
   "cell_type": "code",
   "execution_count": 55,
   "id": "106225ff-9c70-4056-9c4d-d1bd73e6d15c",
   "metadata": {},
   "outputs": [
    {
     "data": {
      "text/plain": [
       "defaultdict(int,\n",
       "            {'白ワイン': 18,\n",
       "             '焼酎': 5,\n",
       "             'ウィスキー': 4,\n",
       "             'Unnamed: 3': nan,\n",
       "             'Unnamed: 4': nan,\n",
       "             'Unnamed: 5': nan,\n",
       "             'Unnamed: 6': nan,\n",
       "             'Unnamed: 7': nan,\n",
       "             'Unnamed: 8': nan})"
      ]
     },
     "execution_count": 55,
     "metadata": {},
     "output_type": "execute_result"
    }
   ],
   "source": [
    "order"
   ]
  },
  {
   "cell_type": "code",
   "execution_count": null,
   "id": "ab999fa8-032d-4fcb-b019-fa87ab465d00",
   "metadata": {},
   "outputs": [],
   "source": []
  }
 ],
 "metadata": {
  "kernelspec": {
   "display_name": "Python 3",
   "language": "python",
   "name": "python3"
  },
  "language_info": {
   "codemirror_mode": {
    "name": "ipython",
    "version": 3
   },
   "file_extension": ".py",
   "mimetype": "text/x-python",
   "name": "python",
   "nbconvert_exporter": "python",
   "pygments_lexer": "ipython3",
   "version": "3.7.4"
  }
 },
 "nbformat": 4,
 "nbformat_minor": 5
}
